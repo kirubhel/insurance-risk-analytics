{
 "cells": [
  {
   "cell_type": "code",
   "execution_count": 9,
   "id": "2860e28a",
   "metadata": {},
   "outputs": [
    {
     "name": "stdout",
     "output_type": "stream",
     "text": [
      "\n",
      "📊 ANOVA: LossRatio by Province\n",
      "F-statistic: 1.9746, p-value: 0.0655\n",
      "❌ Fail to reject H₀: No significant risk difference across provinces.\n",
      "\n",
      "📊 T-test: LossRatio by Gender\n",
      "T-statistic: -0.5798, p-value: 0.5621\n",
      "❌ Fail to reject H₀: No significant risk difference between genders.\n"
     ]
    }
   ],
   "source": [
    "import pandas as pd\n",
    "import numpy as np\n",
    "import scipy.stats as stats\n",
    "import warnings\n",
    "warnings.filterwarnings('ignore')\n",
    "\n",
    "# Load data\n",
    "data = pd.read_csv('../data/raw/MachineLearningRating_v3.txt', sep='|', low_memory=False)\n",
    "\n",
    "# Clean numeric columns\n",
    "data['TotalClaims'] = pd.to_numeric(data['TotalClaims'], errors='coerce')\n",
    "data['TotalPremium'] = pd.to_numeric(data['TotalPremium'], errors='coerce')\n",
    "\n",
    "# Avoid division by zero or invalid values\n",
    "data = data.replace([np.inf, -np.inf], np.nan)\n",
    "\n",
    "# Create LossRatio\n",
    "data['LossRatio'] = data['TotalClaims'] / data['TotalPremium']\n",
    "data['LossRatio'] = data['LossRatio'].replace([np.inf, -np.inf], np.nan)\n",
    "\n",
    "# Filter valid rows\n",
    "data = data.dropna(subset=['LossRatio', 'Province', 'Gender'])\n",
    "data = data[data['TotalPremium'] > 0]\n",
    "data = data[data['Gender'].isin(['Male', 'Female'])]\n",
    "\n",
    "# === ANOVA: Risk differences across Provinces ===\n",
    "anova_groups = [group['LossRatio'].values for _, group in data.groupby('Province')]\n",
    "f_stat, p_val_anova = stats.f_oneway(*anova_groups)\n",
    "\n",
    "print(\"\\n📊 ANOVA: LossRatio by Province\")\n",
    "print(f\"F-statistic: {f_stat:.4f}, p-value: {p_val_anova:.4f}\")\n",
    "if p_val_anova < 0.05:\n",
    "    print(\"✅ Reject H₀: Significant risk difference across provinces.\")\n",
    "else:\n",
    "    print(\"❌ Fail to reject H₀: No significant risk difference across provinces.\")\n",
    "\n",
    "# === T-test: Risk differences between Genders ===\n",
    "male_loss = data[data['Gender'] == 'Male']['LossRatio']\n",
    "female_loss = data[data['Gender'] == 'Female']['LossRatio']\n",
    "t_stat, p_val_ttest = stats.ttest_ind(male_loss, female_loss, equal_var=False)\n",
    "\n",
    "print(\"\\n📊 T-test: LossRatio by Gender\")\n",
    "print(f\"T-statistic: {t_stat:.4f}, p-value: {p_val_ttest:.4f}\")\n",
    "if p_val_ttest < 0.05:\n",
    "    print(\"✅ Reject H₀: Significant risk difference between genders.\")\n",
    "else:\n",
    "    print(\"❌ Fail to reject H₀: No significant risk difference between genders.\")\n",
    "\n"
   ]
  },
  {
   "cell_type": "code",
   "execution_count": null,
   "id": "00fe0866",
   "metadata": {},
   "outputs": [],
   "source": [
    "import matplotlib.pyplot as plt\n",
    "import seaborn as sns\n",
    "\n",
    "plt.figure(figsize=(12,6))\n",
    "sns.boxplot(x='Province', y='LossRatio', data=data)\n",
    "plt.title('Loss Ratio by Province')\n",
    "plt.xticks(rotation=45)\n",
    "plt.tight_layout()\n",
    "plt.show()\n"
   ]
  },
  {
   "cell_type": "code",
   "execution_count": null,
   "id": "81ebdb19",
   "metadata": {},
   "outputs": [],
   "source": [
    "plt.figure(figsize=(12,6))\n",
    "sns.boxplot(x='PostalCode', y='Margin', data=filtered_zip)\n",
    "plt.title('Margin by Top 10 Postal Codes')\n",
    "plt.xticks(rotation=45)\n",
    "plt.tight_layout()\n",
    "plt.show()\n"
   ]
  }
 ],
 "metadata": {
  "language_info": {
   "name": "python"
  }
 },
 "nbformat": 4,
 "nbformat_minor": 5
}
