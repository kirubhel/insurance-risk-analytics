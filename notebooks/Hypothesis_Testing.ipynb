{
 "cells": [
  {
   "cell_type": "code",
   "execution_count": 3,
   "id": "07ccde6c",
   "metadata": {},
   "outputs": [
    {
     "ename": "NameError",
     "evalue": "name 'data' is not defined",
     "output_type": "error",
     "traceback": [
      "\u001b[31m---------------------------------------------------------------------------\u001b[39m",
      "\u001b[31mNameError\u001b[39m                                 Traceback (most recent call last)",
      "\u001b[36mCell\u001b[39m\u001b[36m \u001b[39m\u001b[32mIn[3]\u001b[39m\u001b[32m, line 4\u001b[39m\n\u001b[32m      1\u001b[39m \u001b[38;5;28;01mimport\u001b[39;00m\u001b[38;5;250m \u001b[39m\u001b[34;01mscipy\u001b[39;00m\u001b[34;01m.\u001b[39;00m\u001b[34;01mstats\u001b[39;00m\u001b[38;5;250m \u001b[39m\u001b[38;5;28;01mas\u001b[39;00m\u001b[38;5;250m \u001b[39m\u001b[34;01mstats\u001b[39;00m\n\u001b[32m      3\u001b[39m \u001b[38;5;66;03m# Drop missing LossRatio values\u001b[39;00m\n\u001b[32m----> \u001b[39m\u001b[32m4\u001b[39m anova_data = \u001b[43mdata\u001b[49m.dropna(subset=[\u001b[33m'\u001b[39m\u001b[33mLossRatio\u001b[39m\u001b[33m'\u001b[39m])\n\u001b[32m      6\u001b[39m \u001b[38;5;66;03m# Perform ANOVA\u001b[39;00m\n\u001b[32m      7\u001b[39m groups = [group[\u001b[33m'\u001b[39m\u001b[33mLossRatio\u001b[39m\u001b[33m'\u001b[39m].values \u001b[38;5;28;01mfor\u001b[39;00m name, group \u001b[38;5;129;01min\u001b[39;00m anova_data.groupby(\u001b[33m'\u001b[39m\u001b[33mProvince\u001b[39m\u001b[33m'\u001b[39m)]\n",
      "\u001b[31mNameError\u001b[39m: name 'data' is not defined"
     ]
    }
   ],
   "source": [
    "import scipy.stats as stats\n",
    "\n",
    "# Drop missing LossRatio values\n",
    "anova_data = data.dropna(subset=['LossRatio'])\n",
    "\n",
    "# Perform ANOVA\n",
    "groups = [group['LossRatio'].values for name, group in anova_data.groupby('Province')]\n",
    "f_stat, p_val = stats.f_oneway(*groups)\n",
    "\n",
    "print(f\"ANOVA F-statistic: {f_stat:.4f}, p-value: {p_val:.4f}\")\n",
    "\n",
    "if p_val < 0.05:\n",
    "    print(\"Reject H0: Significant risk difference across provinces.\")\n",
    "else:\n",
    "    print(\"Fail to reject H0: No significant risk difference across provinces.\")\n"
   ]
  },
  {
   "cell_type": "code",
   "execution_count": null,
   "id": "8f47ff2d",
   "metadata": {},
   "outputs": [],
   "source": [
    "gender_data = data.dropna(subset=['LossRatio', 'Gender'])\n",
    "male_loss = gender_data[gender_data['Gender']=='Male']['LossRatio']\n",
    "female_loss = gender_data[gender_data['Gender']=='Female']['LossRatio']\n",
    "\n",
    "t_stat, p_val = stats.ttest_ind(male_loss, female_loss, equal_var=False)\n",
    "\n",
    "print(f\"T-statistic: {t_stat:.4f}, p-value: {p_val:.4f}\")\n",
    "\n",
    "if p_val < 0.05:\n",
    "    print(\"Reject H0: Significant risk difference between genders.\")\n",
    "else:\n",
    "    print(\"Fail to reject H0: No significant risk difference between genders.\")\n"
   ]
  },
  {
   "cell_type": "code",
   "execution_count": null,
   "id": "5fe7a528",
   "metadata": {},
   "outputs": [],
   "source": []
  }
 ],
 "metadata": {
  "kernelspec": {
   "display_name": "env",
   "language": "python",
   "name": "python3"
  },
  "language_info": {
   "codemirror_mode": {
    "name": "ipython",
    "version": 3
   },
   "file_extension": ".py",
   "mimetype": "text/x-python",
   "name": "python",
   "nbconvert_exporter": "python",
   "pygments_lexer": "ipython3",
   "version": "3.13.3"
  }
 },
 "nbformat": 4,
 "nbformat_minor": 5
}
