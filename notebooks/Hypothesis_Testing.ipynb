{
 "cells": [
  {
   "cell_type": "code",
   "execution_count": 7,
   "id": "2860e28a",
   "metadata": {},
   "outputs": [
    {
     "name": "stderr",
     "output_type": "stream",
     "text": [
      "/var/folders/pp/3nx806hs7bl388g7c6clvc5h0000gn/T/ipykernel_37322/2308676876.py:4: DtypeWarning: Columns (32,37) have mixed types. Specify dtype option on import or set low_memory=False.\n",
      "  data = pd.read_csv('../data/raw/MachineLearningRating_v3.txt', sep='|')\n"
     ]
    },
    {
     "name": "stdout",
     "output_type": "stream",
     "text": [
      "ANOVA F-statistic: nan, p-value: nan\n",
      "Fail to reject H0: No significant risk difference across provinces.\n"
     ]
    },
    {
     "name": "stderr",
     "output_type": "stream",
     "text": [
      "/Users/oza/Developer/10 Acadamy/week3/insurance-risk-analytics/env/lib/python3.13/site-packages/numpy/_core/_methods.py:134: RuntimeWarning: invalid value encountered in reduce\n",
      "  ret = umr_sum(arr, axis, dtype, out, keepdims, where=where)\n"
     ]
    }
   ],
   "source": [
    "import scipy.stats as stats\n",
    "import pandas as pd\n",
    "# Load your dataset\n",
    "data = pd.read_csv('../data/raw/MachineLearningRating_v3.txt', sep='|')\n",
    "\n",
    "\n",
    "# Recalculate LossRatio if not already done\n",
    "data['LossRatio'] = data['TotalClaims'] / data['TotalPremium']\n",
    "\n",
    "# Drop missing LossRatio values\n",
    "anova_data = data.dropna(subset=['LossRatio'])\n",
    "\n",
    "# Perform ANOVA\n",
    "groups = [group['LossRatio'].values for name, group in anova_data.groupby('Province')]\n",
    "f_stat, p_val = stats.f_oneway(*groups)\n",
    "\n",
    "print(f\"ANOVA F-statistic: {f_stat:.4f}, p-value: {p_val:.4f}\")\n",
    "\n",
    "if p_val < 0.05:\n",
    "    print(\"Reject H0: Significant risk difference across provinces.\")\n",
    "else:\n",
    "    print(\"Fail to reject H0: No significant risk difference across provinces.\")\n"
   ]
  },
  {
   "cell_type": "code",
   "execution_count": 8,
   "id": "5f189d90",
   "metadata": {},
   "outputs": [
    {
     "name": "stdout",
     "output_type": "stream",
     "text": [
      "T-statistic: nan, p-value: nan\n",
      "Fail to reject H0: No significant risk difference between genders.\n"
     ]
    },
    {
     "name": "stderr",
     "output_type": "stream",
     "text": [
      "/Users/oza/Developer/10 Acadamy/week3/insurance-risk-analytics/env/lib/python3.13/site-packages/scipy/stats/_stats_py.py:6154: RuntimeWarning: invalid value encountered in scalar subtract\n",
      "  d = mean1 - mean2\n",
      "/Users/oza/Developer/10 Acadamy/week3/insurance-risk-analytics/env/lib/python3.13/site-packages/scipy/stats/_stats_py.py:6707: RuntimeWarning: invalid value encountered in scalar subtract\n",
      "  estimate = m1 - m2\n"
     ]
    }
   ],
   "source": [
    "gender_data = data.dropna(subset=['LossRatio', 'Gender'])\n",
    "male_loss = gender_data[gender_data['Gender']=='Male']['LossRatio']\n",
    "female_loss = gender_data[gender_data['Gender']=='Female']['LossRatio']\n",
    "\n",
    "t_stat, p_val = stats.ttest_ind(male_loss, female_loss, equal_var=False)\n",
    "\n",
    "print(f\"T-statistic: {t_stat:.4f}, p-value: {p_val:.4f}\")\n",
    "\n",
    "if p_val < 0.05:\n",
    "    print(\"Reject H0: Significant risk difference between genders.\")\n",
    "else:\n",
    "    print(\"Fail to reject H0: No significant risk difference between genders.\")\n"
   ]
  }
 ],
 "metadata": {
  "language_info": {
   "name": "python"
  }
 },
 "nbformat": 4,
 "nbformat_minor": 5
}
