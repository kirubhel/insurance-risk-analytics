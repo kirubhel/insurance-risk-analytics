{
 "cells": [
  {
   "cell_type": "code",
   "execution_count": 30,
   "id": "de7adf8d",
   "metadata": {},
   "outputs": [],
   "source": [
    "import pandas as pd\n",
    "import numpy as np\n",
    "\n",
    "# Load and clean the original dataset again\n",
    "data = pd.read_csv('../data/raw/MachineLearningRating_v3.txt', sep='|', low_memory=False)\n"
   ]
  },
  {
   "cell_type": "code",
   "execution_count": 31,
   "id": "1de13335",
   "metadata": {},
   "outputs": [
    {
     "name": "stdout",
     "output_type": "stream",
     "text": [
      "Total rows: 1000098\n",
      "Rows with non-zero TotalClaims: 2788\n",
      "Rows with TotalPremium > 0: 618176\n",
      "[    0.          2294.09649123  2040.47368421 46492.21175439\n",
      " 26516.85964912  6140.35087719  4385.96491228 25438.59649123\n",
      " 16715.         74967.01754386 14867.5         2192.98245614\n",
      "  1450.           921.05263158 16804.46491228  2889.70175439\n",
      "   877.19298246 15262.60526316 72445.03508772  5263.15789474]\n",
      "float64\n"
     ]
    }
   ],
   "source": [
    "# Convert numeric fields\n",
    "data['TotalClaims'] = pd.to_numeric(data['TotalClaims'], errors='coerce')\n",
    "data['TotalPremium'] = pd.to_numeric(data['TotalPremium'], errors='coerce')\n",
    "\n",
    "print(\"Total rows:\", data.shape[0])\n",
    "print(\"Rows with non-zero TotalClaims:\", (data['TotalClaims'] > 0).sum())\n",
    "print(\"Rows with TotalPremium > 0:\", (data['TotalPremium'] > 0).sum())\n",
    "\n",
    "print(data['TotalClaims'].unique()[:20])  # preview first 20 unique values\n",
    "print(data['TotalClaims'].dtype)"
   ]
  },
  {
   "cell_type": "code",
   "execution_count": null,
   "id": "80336d21",
   "metadata": {},
   "outputs": [
    {
     "name": "stdout",
     "output_type": "stream",
     "text": [
      "✅ After cleanup: 632 rows\n",
      "✅ Ready for modeling: 632 records, 304 features\n"
     ]
    }
   ],
   "source": [
    "# STEP 1: Filter only claim records\n",
    "claims_df = data[(data['TotalClaims'] > 0) & (data['TotalPremium'] > 0)].copy()\n",
    "\n"
   ]
  },
  {
   "cell_type": "code",
   "execution_count": null,
   "id": "7cb238ca",
   "metadata": {},
   "outputs": [],
   "source": [
    "# STEP 2: Drop irrelevant/high-cardinality columns\n",
    "drop_cols = [\n",
    "    'UnderwrittenCoverID', 'PolicyID', 'TransactionMonth', 'VehicleIntroDate',\n",
    "    'Model', 'Make', 'MainCrestaZone', 'SubCrestaZone',\n",
    "    'Product', 'Section', 'StatutoryClass', 'StatutoryRiskType'\n",
    "]\n",
    "claims_df.drop(columns=drop_cols, inplace=True, errors='ignore')"
   ]
  },
  {
   "cell_type": "code",
   "execution_count": null,
   "id": "0a637a5b",
   "metadata": {},
   "outputs": [],
   "source": [
    "# STEP 3: Encode categorical features using one-hot encoding\n",
    "categorical_cols = claims_df.select_dtypes(include='object').columns\n",
    "claims_df = pd.get_dummies(claims_df, columns=categorical_cols, drop_first=True)"
   ]
  },
  {
   "cell_type": "code",
   "execution_count": null,
   "id": "f32d51be",
   "metadata": {},
   "outputs": [],
   "source": [
    "# STEP 4: Drop remaining NaNs just to be safe\n",
    "# Only drop rows where target or numeric inputs are invalid\n",
    "required_cols = ['TotalPremium', 'TotalClaims', 'SumInsured', 'CalculatedPremiumPerTerm', 'CustomValueEstimate']\n",
    "claims_df = claims_df.dropna(subset=required_cols)\n",
    "\n",
    "print(f\"✅ After cleanup: {claims_df.shape[0]} rows\")\n"
   ]
  },
  {
   "cell_type": "code",
   "execution_count": null,
   "id": "a040f96c",
   "metadata": {},
   "outputs": [
    {
     "name": "stdout",
     "output_type": "stream",
     "text": [
      "✅ Features shape: (0, 305), Target shape: (0,)\n"
     ]
    }
   ],
   "source": [
    "# STEP 5: Split features and target\n",
    "X = claims_df.drop(columns=['TotalClaims'])\n",
    "y = claims_df['TotalClaims']\n",
    "\n",
    "print(f\"✅ Ready for modeling: {X.shape[0]} records, {X.shape[1]} features\")"
   ]
  }
 ],
 "metadata": {
  "kernelspec": {
   "display_name": "env",
   "language": "python",
   "name": "python3"
  },
  "language_info": {
   "codemirror_mode": {
    "name": "ipython",
    "version": 3
   },
   "file_extension": ".py",
   "mimetype": "text/x-python",
   "name": "python",
   "nbconvert_exporter": "python",
   "pygments_lexer": "ipython3",
   "version": "3.13.3"
  }
 },
 "nbformat": 4,
 "nbformat_minor": 5
}
