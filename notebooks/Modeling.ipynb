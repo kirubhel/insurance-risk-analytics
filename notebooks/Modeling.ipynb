{
 "cells": [
  {
   "cell_type": "code",
   "execution_count": 1,
   "id": "de7adf8d",
   "metadata": {},
   "outputs": [],
   "source": [
    "import pandas as pd\n",
    "import numpy as np\n",
    "\n",
    "# Load and clean the original dataset again\n",
    "data = pd.read_csv('../data/raw/MachineLearningRating_v3.txt', sep='|', low_memory=False)\n"
   ]
  },
  {
   "cell_type": "code",
   "execution_count": 2,
   "id": "1de13335",
   "metadata": {},
   "outputs": [],
   "source": [
    "# Convert numeric fields\n",
    "data['TotalClaims'] = pd.to_numeric(data['TotalClaims'], errors='coerce')\n",
    "data['TotalPremium'] = pd.to_numeric(data['TotalPremium'], errors='coerce')\n",
    "\n"
   ]
  },
  {
   "cell_type": "code",
   "execution_count": 3,
   "id": "798125b0",
   "metadata": {},
   "outputs": [],
   "source": [
    "# Filter rows with valid claims\n",
    "data['LossRatio'] = data['TotalClaims'] / data['TotalPremium']\n",
    "data = data.replace([np.inf, -np.inf], np.nan)\n",
    "data = data.dropna(subset=['TotalClaims', 'TotalPremium', 'LossRatio'])"
   ]
  },
  {
   "cell_type": "code",
   "execution_count": 4,
   "id": "7cb238ca",
   "metadata": {},
   "outputs": [],
   "source": [
    "# Only rows with a claim > 0\n",
    "claims_df = data[data['TotalClaims'] > 0].copy()"
   ]
  },
  {
   "cell_type": "code",
   "execution_count": 5,
   "id": "0a637a5b",
   "metadata": {},
   "outputs": [],
   "source": [
    "# Drop irrelevant/high-cardinality columns\n",
    "drop_cols = [\n",
    "    'UnderwrittenCoverID', 'PolicyID', 'TransactionMonth', 'VehicleIntroDate',\n",
    "    'Model', 'Make', 'MainCrestaZone', 'SubCrestaZone',\n",
    "    'Product', 'Section', 'StatutoryClass', 'StatutoryRiskType'\n",
    "]\n",
    "claims_df.drop(columns=drop_cols, inplace=True, errors='ignore')\n"
   ]
  },
  {
   "cell_type": "code",
   "execution_count": 6,
   "id": "f32d51be",
   "metadata": {},
   "outputs": [],
   "source": [
    "# One-hot encode categorical variables\n",
    "categorical_cols = claims_df.select_dtypes(include='object').columns\n",
    "claims_df = pd.get_dummies(claims_df, columns=categorical_cols, drop_first=True)\n"
   ]
  },
  {
   "cell_type": "code",
   "execution_count": 7,
   "id": "a040f96c",
   "metadata": {},
   "outputs": [
    {
     "name": "stdout",
     "output_type": "stream",
     "text": [
      "✅ Features shape: (0, 305), Target shape: (0,)\n"
     ]
    }
   ],
   "source": [
    "# Drop any remaining NaNs\n",
    "claims_df = claims_df.dropna()\n",
    "\n",
    "# Split into features and target\n",
    "X = claims_df.drop(columns=['TotalClaims'])\n",
    "y = claims_df['TotalClaims']\n",
    "\n",
    "print(f\"✅ Features shape: {X.shape}, Target shape: {y.shape}\")"
   ]
  }
 ],
 "metadata": {
  "kernelspec": {
   "display_name": "env",
   "language": "python",
   "name": "python3"
  },
  "language_info": {
   "codemirror_mode": {
    "name": "ipython",
    "version": 3
   },
   "file_extension": ".py",
   "mimetype": "text/x-python",
   "name": "python",
   "nbconvert_exporter": "python",
   "pygments_lexer": "ipython3",
   "version": "3.13.3"
  }
 },
 "nbformat": 4,
 "nbformat_minor": 5
}
